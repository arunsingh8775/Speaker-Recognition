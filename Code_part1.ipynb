{
  "nbformat": 4,
  "nbformat_minor": 0,
  "metadata": {
    "colab": {
      "name": "Code_part1.ipynb",
      "provenance": []
    },
    "kernelspec": {
      "name": "python3",
      "display_name": "Python 3"
    },
    "accelerator": "GPU"
  },
  "cells": [
    {
      "cell_type": "code",
      "metadata": {
        "id": "iZzDQosDOwnE",
        "colab_type": "code",
        "outputId": "e7974eb3-f2b6-4441-a624-0e5002048b34",
        "colab": {
          "base_uri": "https://localhost:8080/",
          "height": 121
        }
      },
      "source": [
        "from google.colab import drive\n",
        "drive.mount('/content/drive')"
      ],
      "execution_count": 0,
      "outputs": [
        {
          "output_type": "stream",
          "text": [
            "Go to this URL in a browser: https://accounts.google.com/o/oauth2/auth?client_id=947318989803-6bn6qk8qdgf4n4g3pfee6491hc0brc4i.apps.googleusercontent.com&redirect_uri=urn%3aietf%3awg%3aoauth%3a2.0%3aoob&response_type=code&scope=email%20https%3a%2f%2fwww.googleapis.com%2fauth%2fdocs.test%20https%3a%2f%2fwww.googleapis.com%2fauth%2fdrive%20https%3a%2f%2fwww.googleapis.com%2fauth%2fdrive.photos.readonly%20https%3a%2f%2fwww.googleapis.com%2fauth%2fpeopleapi.readonly\n",
            "\n",
            "Enter your authorization code:\n",
            "··········\n",
            "Mounted at /content/drive\n"
          ],
          "name": "stdout"
        }
      ]
    },
    {
      "cell_type": "code",
      "metadata": {
        "id": "JpAegssOhjSC",
        "colab_type": "code",
        "colab": {}
      },
      "source": [
        "import librosa \n",
        "from scipy.io import wavfile as wav\n",
        "import numpy as np\n",
        "import pandas as pd\n",
        "import os\n",
        "import matplotlib\n",
        "from matplotlib import pyplot as plt\n",
        "%matplotlib inline\n",
        "%config InlineBackend.figure_format='retina'"
      ],
      "execution_count": 0,
      "outputs": []
    },
    {
      "cell_type": "code",
      "metadata": {
        "id": "UKYSHLn6h1uz",
        "colab_type": "code",
        "colab": {}
      },
      "source": [
        "def extract_features(file_name):\n",
        "   \n",
        "    try:\n",
        "        audio, sample_rate = librosa.load(file_name, res_type='kaiser_fast') \n",
        "        mfccs = librosa.feature.mfcc(y=audio, sr=sample_rate, n_mfcc=40)\n",
        "        mfccsscaled = np.mean(mfccs.T,axis=0)\n",
        "        \n",
        "    except Exception as e:\n",
        "        print(\"Error encountered while parsing file: \", file)\n",
        "        return None \n",
        "     \n",
        "    return mfccsscaled"
      ],
      "execution_count": 0,
      "outputs": []
    },
    {
      "cell_type": "code",
      "metadata": {
        "id": "fNgfTrKiiS9Z",
        "colab_type": "code",
        "colab": {}
      },
      "source": [
        "features = []\n",
        "\n",
        "for filename in os.listdir('/content/drive/My Drive/Audio Data/person1'):\n",
        "    df = extract_features(\"/content/drive/My Drive/Audio Data/person1/\" + filename)\n",
        "    class_label = 1\n",
        "    features.append([df, class_label])\n",
        "\n",
        "for filename in os.listdir('/content/drive/My Drive/Audio Data/person2'):\n",
        "    df = extract_features(\"/content/drive/My Drive/Audio Data/person2/\" + filename)\n",
        "    class_label = 2\n",
        "    features.append([df, class_label])\n",
        "\n",
        "for filename in os.listdir('/content/drive/My Drive/Audio Data/person3'):\n",
        "    df = extract_features(\"/content/drive/My Drive/Audio Data/person3/\" + filename)\n",
        "    class_label = 3\n",
        "    features.append([df, class_label])\n",
        "\n",
        "for filename in os.listdir('/content/drive/My Drive/Audio Data/person4'):\n",
        "    df = extract_features(\"/content/drive/My Drive/Audio Data/person4/\" + filename)\n",
        "    class_label = 4\n",
        "    features.append([df, class_label])\n",
        "\n",
        "\n",
        "for filename in os.listdir('/content/drive/My Drive/Audio Data/person5'):\n",
        "    df = extract_features(\"/content/drive/My Drive/Audio Data/person5/\" + filename)\n",
        "    class_label = 5\n",
        "    features.append([df, class_label])\n",
        "\n",
        "for filename in os.listdir('/content/drive/My Drive/Audio Data/person6'):\n",
        "    df = extract_features(\"/content/drive/My Drive/Audio Data/person6/\" + filename)\n",
        "    class_label = 6\n",
        "    features.append([df, class_label])\n",
        "\n",
        "for filename in os.listdir('/content/drive/My Drive/Audio Data/person7'):\n",
        "    df = extract_features(\"/content/drive/My Drive/Audio Data/person7/\" + filename)\n",
        "    class_label = 7\n",
        "    features.append([df, class_label])\n",
        "\n",
        "for filename in os.listdir('/content/drive/My Drive/Audio Data/person8'):\n",
        "    df = extract_features(\"/content/drive/My Drive/Audio Data/person8/\" + filename)\n",
        "    class_label = 8\n",
        "    features.append([df, class_label])\n",
        "\n",
        "for filename in os.listdir('/content/drive/My Drive/Audio Data/person9'):\n",
        "    df = extract_features(\"/content/drive/My Drive/Audio Data/person9/\" + filename)\n",
        "    class_label = 9\n",
        "    features.append([df, class_label])\n",
        "\n",
        "for filename in os.listdir('/content/drive/My Drive/Audio Data/person10'):\n",
        "    df = extract_features(\"/content/drive/My Drive/Audio Data/person10/\" + filename)\n",
        "    class_label = 10\n",
        "    features.append([df, class_label])\n",
        "\n",
        "for filename in os.listdir('/content/drive/My Drive/Audio Data/person11'):\n",
        "    df = extract_features(\"/content/drive/My Drive/Audio Data/person11/\" + filename)\n",
        "    class_label = 11\n",
        "    features.append([df, class_label]) \n",
        "\n",
        "for filename in os.listdir('/content/drive/My Drive/Audio Data/person12'):\n",
        "    df = extract_features(\"/content/drive/My Drive/Audio Data/person12/\" + filename)\n",
        "    class_label = 12\n",
        "    features.append([df, class_label]) \n",
        "\n",
        "for filename in os.listdir('/content/drive/My Drive/Audio Data/person13'):\n",
        "    df = extract_features(\"/content/drive/My Drive/Audio Data/person13/\" + filename)\n",
        "    class_label = 13\n",
        "    features.append([df, class_label]) \n",
        "\n",
        "for filename in os.listdir('/content/drive/My Drive/Audio Data/person14'):\n",
        "    df = extract_features(\"/content/drive/My Drive/Audio Data/person14/\" + filename)\n",
        "    class_label = 14\n",
        "    features.append([df, class_label])\n",
        "\n",
        "for filename in os.listdir('/content/drive/My Drive/Audio Data/person15'):\n",
        "    df = extract_features(\"/content/drive/My Drive/Audio Data/person15/\" + filename)\n",
        "    class_label = 15\n",
        "    features.append([df, class_label])\n",
        "\n",
        "for filename in os.listdir('/content/drive/My Drive/Audio Data/person16'):\n",
        "    df = extract_features(\"/content/drive/My Drive/Audio Data/person16/\" + filename)\n",
        "    class_label = 16\n",
        "    features.append([df, class_label])\n",
        "\n",
        "for filename in os.listdir('/content/drive/My Drive/Audio Data/person17'):\n",
        "    df = extract_features(\"/content/drive/My Drive/Audio Data/person17/\" + filename)\n",
        "    class_label = 17\n",
        "    features.append([df, class_label])\n",
        "\n",
        "\n",
        "for filename in os.listdir('/content/drive/My Drive/Audio Data/person18'):\n",
        "    df = extract_features(\"/content/drive/My Drive/Audio Data/person18/\" + filename)\n",
        "    class_label = 18\n",
        "    features.append([df, class_label])\n",
        "\n",
        "for filename in os.listdir('/content/drive/My Drive/Audio Data/person19'):\n",
        "    df = extract_features(\"/content/drive/My Drive/Audio Data/person19/\" + filename)\n",
        "    class_label = 19\n",
        "    features.append([df, class_label])\n",
        "\n",
        "for filename in os.listdir('/content/drive/My Drive/Audio Data/person20'):\n",
        "    df = extract_features(\"/content/drive/My Drive/Audio Data/person20/\" + filename)\n",
        "    class_label = 20\n",
        "    features.append([df, class_label])\n",
        "\n",
        "for filename in os.listdir('/content/drive/My Drive/Audio Data/person21'):\n",
        "    df = extract_features(\"/content/drive/My Drive/Audio Data/person21/\" + filename)\n",
        "    class_label = 21\n",
        "    features.append([df, class_label])\n",
        "\n",
        "for filename in os.listdir('/content/drive/My Drive/Audio Data/person22'):\n",
        "    df = extract_features(\"/content/drive/My Drive/Audio Data/person22/\" + filename)\n",
        "    class_label = 22\n",
        "    features.append([df, class_label])\n",
        "\n",
        "for filename in os.listdir('/content/drive/My Drive/Audio Data/person23'):\n",
        "    df = extract_features(\"/content/drive/My Drive/Audio Data/person23/\" + filename)\n",
        "    class_label = 23\n",
        "    features.append([df, class_label])\n",
        "\n",
        "for filename in os.listdir('/content/drive/My Drive/Audio Data/person24'):\n",
        "    df = extract_features(\"/content/drive/My Drive/Audio Data/person24/\" + filename)\n",
        "    class_label = 24\n",
        "    features.append([df, class_label]) \n",
        "\n",
        "for filename in os.listdir('/content/drive/My Drive/Audio Data/person25'):\n",
        "    df = extract_features(\"/content/drive/My Drive/Audio Data/person25/\" + filename)\n",
        "    class_label = 25\n",
        "    features.append([df, class_label]) \n",
        "\n",
        "for filename in os.listdir('/content/drive/My Drive/Audio Data/person26'):\n",
        "    df = extract_features(\"/content/drive/My Drive/Audio Data/person26/\" + filename)\n",
        "    class_label = 26\n",
        "    features.append([df, class_label]) \n",
        "\n",
        "for filename in os.listdir('/content/drive/My Drive/Audio Data/person27'):\n",
        "    df = extract_features(\"/content/drive/My Drive/Audio Data/person27/\" + filename)\n",
        "    class_label = 27\n",
        "    features.append([df, class_label])\n",
        "\n",
        "for filename in os.listdir('/content/drive/My Drive/Audio Data/person28'):\n",
        "    df = extract_features(\"/content/drive/My Drive/Audio Data/person28/\" + filename)\n",
        "    class_label = 28\n",
        "    features.append([df, class_label])\n",
        "\n",
        "for filename in os.listdir('/content/drive/My Drive/Audio Data/person29'):\n",
        "    df = extract_features(\"/content/drive/My Drive/Audio Data/person29/\" + filename)\n",
        "    class_label = 29\n",
        "    features.append([df, class_label])\n",
        "\n",
        "for filename in os.listdir('/content/drive/My Drive/Audio Data/person30'):\n",
        "    df = extract_features(\"/content/drive/My Drive/Audio Data/person30/\" + filename)\n",
        "    class_label = 30\n",
        "    features.append([df, class_label])\n",
        "\n",
        "\n",
        "for filename in os.listdir('/content/drive/My Drive/Audio Data/person31'):\n",
        "    df = extract_features(\"/content/drive/My Drive/Audio Data/person31/\" + filename)\n",
        "    class_label = 31\n",
        "    features.append([df, class_label])\n",
        "\n",
        "for filename in os.listdir('/content/drive/My Drive/Audio Data/person32'):\n",
        "    df = extract_features(\"/content/drive/My Drive/Audio Data/person32/\" + filename)\n",
        "    class_label = 32\n",
        "    features.append([df, class_label])\n",
        "\n",
        "for filename in os.listdir('/content/drive/My Drive/Audio Data/person33'):\n",
        "    df = extract_features(\"/content/drive/My Drive/Audio Data/person33/\" + filename)\n",
        "    class_label = 33\n",
        "    features.append([df, class_label])\n",
        "\n",
        "for filename in os.listdir('/content/drive/My Drive/Audio Data/person34'):\n",
        "    df = extract_features(\"/content/drive/My Drive/Audio Data/person34/\" + filename)\n",
        "    class_label = 34\n",
        "    features.append([df, class_label])\n",
        "\n",
        "\n"
      ],
      "execution_count": 0,
      "outputs": []
    },
    {
      "cell_type": "code",
      "metadata": {
        "id": "L0jBHs4XkAqP",
        "colab_type": "code",
        "colab": {}
      },
      "source": [
        "featuresdf = pd.DataFrame(features, columns=['feature','class_label'])\n",
        "\n",
        "print('Finished feature extraction from ', len(featuresdf), ' files')"
      ],
      "execution_count": 0,
      "outputs": []
    },
    {
      "cell_type": "code",
      "metadata": {
        "id": "CeM19DizY-Qz",
        "colab_type": "code",
        "colab": {}
      },
      "source": [
        "from sklearn.preprocessing import LabelEncoder\n",
        "from keras.utils import to_categorical\n",
        "\n",
        "# Convert features and corresponding classification labels into numpy arrays\n",
        "X = np.array(featuresdf.feature.tolist())\n",
        "y = np.array(featuresdf.class_label.tolist())\n",
        "\n",
        "np.save('/content/drive/My Drive/Audio Data/audio/x_array', X)\n",
        "np.save('/content/drive/My Drive/Audio Data/audio/y_array',y)"
      ],
      "execution_count": 0,
      "outputs": []
    },
    {
      "cell_type": "code",
      "metadata": {
        "id": "djvWAC0CwpgP",
        "colab_type": "code",
        "outputId": "b5b13baa-b6c3-4779-a364-4a917d0b4546",
        "colab": {
          "base_uri": "https://localhost:8080/",
          "height": 252
        }
      },
      "source": [
        "from sklearn.preprocessing import LabelEncoder\n",
        "from keras.utils import to_categorical\n",
        "\n",
        "\n",
        "\n",
        "X = np.load('/content/drive/My Drive/Audio Data/audio/x_array.npy') \n",
        "y = np.load('/content/drive/My Drive/Audio Data/audio/y_array.npy')\n",
        "\n",
        "print(X)\n",
        "print(y)\n",
        "\n",
        "# Encode the classification labels\n",
        "le = LabelEncoder()\n",
        "yy = to_categorical(le.fit_transform(y))"
      ],
      "execution_count": 0,
      "outputs": [
        {
          "output_type": "stream",
          "text": [
            "[[-327.13034106  124.55744493  -13.3283872  ...    5.81759166\n",
            "     5.51081068    3.89832275]\n",
            " [-333.96701554  127.59133407  -19.99931353 ...    8.59755088\n",
            "     6.00834352    3.12563757]\n",
            " [-342.26954069  126.92381862  -20.96413433 ...   13.64108583\n",
            "    12.57575976   10.62444635]\n",
            " ...\n",
            " [-414.89264859   87.41492958  -46.13267797 ...    6.05665556\n",
            "     4.60922891    2.02420416]\n",
            " [-391.76910445   83.87343907  -54.7558954  ...    4.9380923\n",
            "     4.76175928    1.94722376]\n",
            " [-457.5561098    62.79653087  -33.58849511 ...    6.06388502\n",
            "     4.54907171    1.2433848 ]]\n",
            "[ 1  1  1 ... 35 35 35]\n"
          ],
          "name": "stdout"
        }
      ]
    },
    {
      "cell_type": "code",
      "metadata": {
        "id": "bMkxF1zZwqgz",
        "colab_type": "code",
        "colab": {}
      },
      "source": [
        "from sklearn.model_selection import train_test_split \n",
        "\n",
        "x_train, x_test, y_train, y_test = train_test_split(X, yy, test_size=0.4, random_state = 42)"
      ],
      "execution_count": 0,
      "outputs": []
    },
    {
      "cell_type": "code",
      "metadata": {
        "id": "nfvC3bnj6tM3",
        "colab_type": "code",
        "colab": {}
      },
      "source": [
        "import numpy as np\n",
        "from keras.models import Sequential\n",
        "from keras.layers import Dense, Dropout, Activation, Flatten\n",
        "from keras.layers import Convolution2D, MaxPooling2D\n",
        "from keras.optimizers import Adam\n",
        "from keras.utils import np_utils\n",
        "from sklearn import metrics \n",
        "\n",
        "num_labels = yy.shape[1]\n",
        "filter_size = 2\n",
        "\n",
        "# Construct model \n",
        "model = Sequential()\n",
        "\n",
        "model.add(Dense(256, input_shape=(40,)))\n",
        "model.add(Activation('relu'))\n",
        "model.add(Dropout(0.6))\n",
        "\n",
        "\n",
        "\n",
        "model.add(Dense(256))\n",
        "model.add(Activation('relu'))\n",
        "model.add(Dropout(0.6))\n",
        "\n",
        "model.add(Dense(num_labels))\n",
        "model.add(Activation('softmax'))"
      ],
      "execution_count": 0,
      "outputs": []
    },
    {
      "cell_type": "code",
      "metadata": {
        "id": "R31ny29s63dL",
        "colab_type": "code",
        "colab": {}
      },
      "source": [
        "model.compile(loss='categorical_crossentropy', metrics=['accuracy'], optimizer='adam')"
      ],
      "execution_count": 0,
      "outputs": []
    },
    {
      "cell_type": "code",
      "metadata": {
        "id": "PsuQcWKKMD7u",
        "colab_type": "code",
        "outputId": "13c4d3b4-0b30-42c2-977a-46cc3b8e6f3e",
        "colab": {
          "base_uri": "https://localhost:8080/",
          "height": 437
        }
      },
      "source": [
        "# Display model architecture summary \n",
        "model.summary()\n",
        "\n",
        "# Calculate pre-training accuracy \n",
        "score = model.evaluate(x_test, y_test, verbose=0)\n",
        "accuracy = 100*score[1]\n",
        "\n",
        "print(\"Pre-training accuracy: %.4f%%\" % accuracy)"
      ],
      "execution_count": 0,
      "outputs": [
        {
          "output_type": "stream",
          "text": [
            "Model: \"sequential_1\"\n",
            "_________________________________________________________________\n",
            "Layer (type)                 Output Shape              Param #   \n",
            "=================================================================\n",
            "dense_1 (Dense)              (None, 256)               10496     \n",
            "_________________________________________________________________\n",
            "activation_1 (Activation)    (None, 256)               0         \n",
            "_________________________________________________________________\n",
            "dropout_1 (Dropout)          (None, 256)               0         \n",
            "_________________________________________________________________\n",
            "dense_2 (Dense)              (None, 256)               65792     \n",
            "_________________________________________________________________\n",
            "activation_2 (Activation)    (None, 256)               0         \n",
            "_________________________________________________________________\n",
            "dropout_2 (Dropout)          (None, 256)               0         \n",
            "_________________________________________________________________\n",
            "dense_3 (Dense)              (None, 35)                8995      \n",
            "_________________________________________________________________\n",
            "activation_3 (Activation)    (None, 35)                0         \n",
            "=================================================================\n",
            "Total params: 85,283\n",
            "Trainable params: 85,283\n",
            "Non-trainable params: 0\n",
            "_________________________________________________________________\n",
            "Pre-training accuracy: 3.0303%\n"
          ],
          "name": "stdout"
        }
      ]
    },
    {
      "cell_type": "code",
      "metadata": {
        "id": "mYGOu2x_ME5j",
        "colab_type": "code",
        "outputId": "2725421d-7752-4059-ec3b-4e1a8304f71f",
        "colab": {
          "base_uri": "https://localhost:8080/",
          "height": 1000
        }
      },
      "source": [
        "\n",
        "from keras.callbacks import ModelCheckpoint \n",
        "from datetime import datetime \n",
        "\n",
        "num_epochs = 100\n",
        "num_batch_size = 32\n",
        "\n",
        "checkpointer = ModelCheckpoint(filepath='/content/drive/My Drive/Audio Data/audio/weights.best.basic_mlp.hdf5', \n",
        "                               verbose=1, save_best_only=True)\n",
        "start = datetime.now()\n",
        "\n",
        "history = model.fit(x_train, y_train, batch_size=num_batch_size, epochs=num_epochs, validation_data=(x_test, y_test), callbacks=[checkpointer], verbose=1)\n",
        "history_dict = history.history\n",
        "duration = datetime.now() - start\n",
        "print(\"Training completed in time: \", duration)"
      ],
      "execution_count": 0,
      "outputs": [
        {
          "output_type": "stream",
          "text": [
            "Train on 1435 samples, validate on 957 samples\n",
            "Epoch 1/100\n",
            "1435/1435 [==============================] - 0s 212us/step - loss: 54.2362 - accuracy: 0.0341 - val_loss: 3.5238 - val_accuracy: 0.0522\n",
            "\n",
            "Epoch 00001: val_loss improved from inf to 3.52376, saving model to /content/drive/My Drive/Audio Data/audio/weights.best.basic_mlp.hdf5\n",
            "Epoch 2/100\n",
            "1435/1435 [==============================] - 0s 139us/step - loss: 11.9523 - accuracy: 0.0341 - val_loss: 3.5540 - val_accuracy: 0.0240\n",
            "\n",
            "Epoch 00002: val_loss did not improve from 3.52376\n",
            "Epoch 3/100\n",
            "1435/1435 [==============================] - 0s 138us/step - loss: 5.2366 - accuracy: 0.0404 - val_loss: 3.5541 - val_accuracy: 0.0293\n",
            "\n",
            "Epoch 00003: val_loss did not improve from 3.52376\n",
            "Epoch 4/100\n",
            "1435/1435 [==============================] - 0s 130us/step - loss: 4.2361 - accuracy: 0.0460 - val_loss: 3.5532 - val_accuracy: 0.0293\n",
            "\n",
            "Epoch 00004: val_loss did not improve from 3.52376\n",
            "Epoch 5/100\n",
            "1435/1435 [==============================] - 0s 136us/step - loss: 3.9482 - accuracy: 0.0411 - val_loss: 3.5524 - val_accuracy: 0.0293\n",
            "\n",
            "Epoch 00005: val_loss did not improve from 3.52376\n",
            "Epoch 6/100\n",
            "1435/1435 [==============================] - 0s 127us/step - loss: 3.7509 - accuracy: 0.0460 - val_loss: 3.5517 - val_accuracy: 0.0293\n",
            "\n",
            "Epoch 00006: val_loss did not improve from 3.52376\n",
            "Epoch 7/100\n",
            "1435/1435 [==============================] - 0s 135us/step - loss: 3.7037 - accuracy: 0.0509 - val_loss: 3.5503 - val_accuracy: 0.0293\n",
            "\n",
            "Epoch 00007: val_loss did not improve from 3.52376\n",
            "Epoch 8/100\n",
            "1435/1435 [==============================] - 0s 128us/step - loss: 3.6442 - accuracy: 0.0578 - val_loss: 3.5445 - val_accuracy: 0.0293\n",
            "\n",
            "Epoch 00008: val_loss did not improve from 3.52376\n",
            "Epoch 9/100\n",
            "1435/1435 [==============================] - 0s 126us/step - loss: 3.6317 - accuracy: 0.0551 - val_loss: 3.5471 - val_accuracy: 0.0293\n",
            "\n",
            "Epoch 00009: val_loss did not improve from 3.52376\n",
            "Epoch 10/100\n",
            "1435/1435 [==============================] - 0s 134us/step - loss: 3.6243 - accuracy: 0.0509 - val_loss: 3.5429 - val_accuracy: 0.0334\n",
            "\n",
            "Epoch 00010: val_loss did not improve from 3.52376\n",
            "Epoch 11/100\n",
            "1435/1435 [==============================] - 0s 138us/step - loss: 3.5590 - accuracy: 0.0613 - val_loss: 3.5288 - val_accuracy: 0.0564\n",
            "\n",
            "Epoch 00011: val_loss did not improve from 3.52376\n",
            "Epoch 12/100\n",
            "1435/1435 [==============================] - 0s 127us/step - loss: 3.5908 - accuracy: 0.0613 - val_loss: 3.5138 - val_accuracy: 0.0731\n",
            "\n",
            "Epoch 00012: val_loss improved from 3.52376 to 3.51377, saving model to /content/drive/My Drive/Audio Data/audio/weights.best.basic_mlp.hdf5\n",
            "Epoch 13/100\n",
            "1435/1435 [==============================] - 0s 129us/step - loss: 3.5566 - accuracy: 0.0634 - val_loss: 3.5039 - val_accuracy: 0.0731\n",
            "\n",
            "Epoch 00013: val_loss improved from 3.51377 to 3.50393, saving model to /content/drive/My Drive/Audio Data/audio/weights.best.basic_mlp.hdf5\n",
            "Epoch 14/100\n",
            "1435/1435 [==============================] - 0s 132us/step - loss: 3.5419 - accuracy: 0.0606 - val_loss: 3.4620 - val_accuracy: 0.0825\n",
            "\n",
            "Epoch 00014: val_loss improved from 3.50393 to 3.46195, saving model to /content/drive/My Drive/Audio Data/audio/weights.best.basic_mlp.hdf5\n",
            "Epoch 15/100\n",
            "1435/1435 [==============================] - 0s 130us/step - loss: 3.5224 - accuracy: 0.0571 - val_loss: 3.4552 - val_accuracy: 0.0878\n",
            "\n",
            "Epoch 00015: val_loss improved from 3.46195 to 3.45519, saving model to /content/drive/My Drive/Audio Data/audio/weights.best.basic_mlp.hdf5\n",
            "Epoch 16/100\n",
            "1435/1435 [==============================] - 0s 133us/step - loss: 3.5346 - accuracy: 0.0683 - val_loss: 3.4670 - val_accuracy: 0.0805\n",
            "\n",
            "Epoch 00016: val_loss did not improve from 3.45519\n",
            "Epoch 17/100\n",
            "1435/1435 [==============================] - 0s 131us/step - loss: 3.5029 - accuracy: 0.0732 - val_loss: 3.4129 - val_accuracy: 0.0899\n",
            "\n",
            "Epoch 00017: val_loss improved from 3.45519 to 3.41288, saving model to /content/drive/My Drive/Audio Data/audio/weights.best.basic_mlp.hdf5\n",
            "Epoch 18/100\n",
            "1435/1435 [==============================] - 0s 130us/step - loss: 3.4831 - accuracy: 0.0780 - val_loss: 3.3897 - val_accuracy: 0.0899\n",
            "\n",
            "Epoch 00018: val_loss improved from 3.41288 to 3.38970, saving model to /content/drive/My Drive/Audio Data/audio/weights.best.basic_mlp.hdf5\n",
            "Epoch 19/100\n",
            "1435/1435 [==============================] - 0s 132us/step - loss: 3.4813 - accuracy: 0.0794 - val_loss: 3.4190 - val_accuracy: 0.0867\n",
            "\n",
            "Epoch 00019: val_loss did not improve from 3.38970\n",
            "Epoch 20/100\n",
            "1435/1435 [==============================] - 0s 125us/step - loss: 3.4629 - accuracy: 0.0760 - val_loss: 3.3602 - val_accuracy: 0.0909\n",
            "\n",
            "Epoch 00020: val_loss improved from 3.38970 to 3.36025, saving model to /content/drive/My Drive/Audio Data/audio/weights.best.basic_mlp.hdf5\n",
            "Epoch 21/100\n",
            "1435/1435 [==============================] - 0s 131us/step - loss: 3.4492 - accuracy: 0.0843 - val_loss: 3.3648 - val_accuracy: 0.0920\n",
            "\n",
            "Epoch 00021: val_loss did not improve from 3.36025\n",
            "Epoch 22/100\n",
            "1435/1435 [==============================] - 0s 130us/step - loss: 3.4093 - accuracy: 0.0843 - val_loss: 3.3728 - val_accuracy: 0.0888\n",
            "\n",
            "Epoch 00022: val_loss did not improve from 3.36025\n",
            "Epoch 23/100\n",
            "1435/1435 [==============================] - 0s 125us/step - loss: 3.4111 - accuracy: 0.0878 - val_loss: 3.3367 - val_accuracy: 0.0972\n",
            "\n",
            "Epoch 00023: val_loss improved from 3.36025 to 3.33674, saving model to /content/drive/My Drive/Audio Data/audio/weights.best.basic_mlp.hdf5\n",
            "Epoch 24/100\n",
            "1435/1435 [==============================] - 0s 137us/step - loss: 3.3881 - accuracy: 0.0962 - val_loss: 3.3199 - val_accuracy: 0.1129\n",
            "\n",
            "Epoch 00024: val_loss improved from 3.33674 to 3.31994, saving model to /content/drive/My Drive/Audio Data/audio/weights.best.basic_mlp.hdf5\n",
            "Epoch 25/100\n",
            "1435/1435 [==============================] - 0s 125us/step - loss: 3.3881 - accuracy: 0.0892 - val_loss: 3.3123 - val_accuracy: 0.1076\n",
            "\n",
            "Epoch 00025: val_loss improved from 3.31994 to 3.31232, saving model to /content/drive/My Drive/Audio Data/audio/weights.best.basic_mlp.hdf5\n",
            "Epoch 26/100\n",
            "1435/1435 [==============================] - 0s 132us/step - loss: 3.3766 - accuracy: 0.0955 - val_loss: 3.3011 - val_accuracy: 0.1170\n",
            "\n",
            "Epoch 00026: val_loss improved from 3.31232 to 3.30106, saving model to /content/drive/My Drive/Audio Data/audio/weights.best.basic_mlp.hdf5\n",
            "Epoch 27/100\n",
            "1435/1435 [==============================] - 0s 130us/step - loss: 3.3728 - accuracy: 0.1003 - val_loss: 3.2749 - val_accuracy: 0.1191\n",
            "\n",
            "Epoch 00027: val_loss improved from 3.30106 to 3.27492, saving model to /content/drive/My Drive/Audio Data/audio/weights.best.basic_mlp.hdf5\n",
            "Epoch 28/100\n",
            "1435/1435 [==============================] - 0s 124us/step - loss: 3.3721 - accuracy: 0.0927 - val_loss: 3.2814 - val_accuracy: 0.1160\n",
            "\n",
            "Epoch 00028: val_loss did not improve from 3.27492\n",
            "Epoch 29/100\n",
            "1435/1435 [==============================] - 0s 138us/step - loss: 3.3510 - accuracy: 0.1010 - val_loss: 3.2725 - val_accuracy: 0.1170\n",
            "\n",
            "Epoch 00029: val_loss improved from 3.27492 to 3.27254, saving model to /content/drive/My Drive/Audio Data/audio/weights.best.basic_mlp.hdf5\n",
            "Epoch 30/100\n",
            "1435/1435 [==============================] - 0s 124us/step - loss: 3.3380 - accuracy: 0.0941 - val_loss: 3.2597 - val_accuracy: 0.1170\n",
            "\n",
            "Epoch 00030: val_loss improved from 3.27254 to 3.25966, saving model to /content/drive/My Drive/Audio Data/audio/weights.best.basic_mlp.hdf5\n",
            "Epoch 31/100\n",
            "1435/1435 [==============================] - 0s 138us/step - loss: 3.3071 - accuracy: 0.1101 - val_loss: 3.2432 - val_accuracy: 0.1202\n",
            "\n",
            "Epoch 00031: val_loss improved from 3.25966 to 3.24315, saving model to /content/drive/My Drive/Audio Data/audio/weights.best.basic_mlp.hdf5\n",
            "Epoch 32/100\n",
            "1435/1435 [==============================] - 0s 126us/step - loss: 3.3037 - accuracy: 0.1066 - val_loss: 3.2047 - val_accuracy: 0.1296\n",
            "\n",
            "Epoch 00032: val_loss improved from 3.24315 to 3.20465, saving model to /content/drive/My Drive/Audio Data/audio/weights.best.basic_mlp.hdf5\n",
            "Epoch 33/100\n",
            "1435/1435 [==============================] - 0s 135us/step - loss: 3.2423 - accuracy: 0.1150 - val_loss: 3.1333 - val_accuracy: 0.1379\n",
            "\n",
            "Epoch 00033: val_loss improved from 3.20465 to 3.13334, saving model to /content/drive/My Drive/Audio Data/audio/weights.best.basic_mlp.hdf5\n",
            "Epoch 34/100\n",
            "1435/1435 [==============================] - 0s 129us/step - loss: 3.2520 - accuracy: 0.1171 - val_loss: 3.0846 - val_accuracy: 0.1557\n",
            "\n",
            "Epoch 00034: val_loss improved from 3.13334 to 3.08461, saving model to /content/drive/My Drive/Audio Data/audio/weights.best.basic_mlp.hdf5\n",
            "Epoch 35/100\n",
            "1435/1435 [==============================] - 0s 126us/step - loss: 3.1999 - accuracy: 0.1157 - val_loss: 3.0011 - val_accuracy: 0.1526\n",
            "\n",
            "Epoch 00035: val_loss improved from 3.08461 to 3.00111, saving model to /content/drive/My Drive/Audio Data/audio/weights.best.basic_mlp.hdf5\n",
            "Epoch 36/100\n",
            "1435/1435 [==============================] - 0s 128us/step - loss: 3.1208 - accuracy: 0.1282 - val_loss: 2.9315 - val_accuracy: 0.1505\n",
            "\n",
            "Epoch 00036: val_loss improved from 3.00111 to 2.93146, saving model to /content/drive/My Drive/Audio Data/audio/weights.best.basic_mlp.hdf5\n",
            "Epoch 37/100\n",
            "1435/1435 [==============================] - 0s 122us/step - loss: 3.1576 - accuracy: 0.1185 - val_loss: 2.8924 - val_accuracy: 0.1661\n",
            "\n",
            "Epoch 00037: val_loss improved from 2.93146 to 2.89238, saving model to /content/drive/My Drive/Audio Data/audio/weights.best.basic_mlp.hdf5\n",
            "Epoch 38/100\n",
            "1435/1435 [==============================] - 0s 130us/step - loss: 3.1011 - accuracy: 0.1366 - val_loss: 2.8447 - val_accuracy: 0.1567\n",
            "\n",
            "Epoch 00038: val_loss improved from 2.89238 to 2.84473, saving model to /content/drive/My Drive/Audio Data/audio/weights.best.basic_mlp.hdf5\n",
            "Epoch 39/100\n",
            "1435/1435 [==============================] - 0s 126us/step - loss: 3.0646 - accuracy: 0.1408 - val_loss: 2.8158 - val_accuracy: 0.1912\n",
            "\n",
            "Epoch 00039: val_loss improved from 2.84473 to 2.81575, saving model to /content/drive/My Drive/Audio Data/audio/weights.best.basic_mlp.hdf5\n",
            "Epoch 40/100\n",
            "1435/1435 [==============================] - 0s 138us/step - loss: 3.0341 - accuracy: 0.1443 - val_loss: 2.7541 - val_accuracy: 0.1745\n",
            "\n",
            "Epoch 00040: val_loss improved from 2.81575 to 2.75411, saving model to /content/drive/My Drive/Audio Data/audio/weights.best.basic_mlp.hdf5\n",
            "Epoch 41/100\n",
            "1435/1435 [==============================] - 0s 123us/step - loss: 3.0141 - accuracy: 0.1449 - val_loss: 2.6725 - val_accuracy: 0.2508\n",
            "\n",
            "Epoch 00041: val_loss improved from 2.75411 to 2.67254, saving model to /content/drive/My Drive/Audio Data/audio/weights.best.basic_mlp.hdf5\n",
            "Epoch 42/100\n",
            "1435/1435 [==============================] - 0s 131us/step - loss: 2.9169 - accuracy: 0.1819 - val_loss: 2.5917 - val_accuracy: 0.2717\n",
            "\n",
            "Epoch 00042: val_loss improved from 2.67254 to 2.59168, saving model to /content/drive/My Drive/Audio Data/audio/weights.best.basic_mlp.hdf5\n",
            "Epoch 43/100\n",
            "1435/1435 [==============================] - 0s 124us/step - loss: 2.8375 - accuracy: 0.2049 - val_loss: 2.4993 - val_accuracy: 0.3083\n",
            "\n",
            "Epoch 00043: val_loss improved from 2.59168 to 2.49925, saving model to /content/drive/My Drive/Audio Data/audio/weights.best.basic_mlp.hdf5\n",
            "Epoch 44/100\n",
            "1435/1435 [==============================] - 0s 127us/step - loss: 2.8047 - accuracy: 0.2188 - val_loss: 2.4215 - val_accuracy: 0.3365\n",
            "\n",
            "Epoch 00044: val_loss improved from 2.49925 to 2.42152, saving model to /content/drive/My Drive/Audio Data/audio/weights.best.basic_mlp.hdf5\n",
            "Epoch 45/100\n",
            "1435/1435 [==============================] - 0s 136us/step - loss: 2.7308 - accuracy: 0.2348 - val_loss: 2.3362 - val_accuracy: 0.3490\n",
            "\n",
            "Epoch 00045: val_loss improved from 2.42152 to 2.33621, saving model to /content/drive/My Drive/Audio Data/audio/weights.best.basic_mlp.hdf5\n",
            "Epoch 46/100\n",
            "1435/1435 [==============================] - 0s 125us/step - loss: 2.6718 - accuracy: 0.2446 - val_loss: 2.2088 - val_accuracy: 0.3866\n",
            "\n",
            "Epoch 00046: val_loss improved from 2.33621 to 2.20882, saving model to /content/drive/My Drive/Audio Data/audio/weights.best.basic_mlp.hdf5\n",
            "Epoch 47/100\n",
            "1435/1435 [==============================] - 0s 134us/step - loss: 2.5335 - accuracy: 0.2613 - val_loss: 2.0235 - val_accuracy: 0.4828\n",
            "\n",
            "Epoch 00047: val_loss improved from 2.20882 to 2.02346, saving model to /content/drive/My Drive/Audio Data/audio/weights.best.basic_mlp.hdf5\n",
            "Epoch 48/100\n",
            "1435/1435 [==============================] - 0s 124us/step - loss: 2.4756 - accuracy: 0.2753 - val_loss: 1.8900 - val_accuracy: 0.5528\n",
            "\n",
            "Epoch 00048: val_loss improved from 2.02346 to 1.88996, saving model to /content/drive/My Drive/Audio Data/audio/weights.best.basic_mlp.hdf5\n",
            "Epoch 49/100\n",
            "1435/1435 [==============================] - 0s 136us/step - loss: 2.3928 - accuracy: 0.3038 - val_loss: 1.7719 - val_accuracy: 0.5475\n",
            "\n",
            "Epoch 00049: val_loss improved from 1.88996 to 1.77186, saving model to /content/drive/My Drive/Audio Data/audio/weights.best.basic_mlp.hdf5\n",
            "Epoch 50/100\n",
            "1435/1435 [==============================] - 0s 129us/step - loss: 2.3506 - accuracy: 0.3164 - val_loss: 1.7504 - val_accuracy: 0.6186\n",
            "\n",
            "Epoch 00050: val_loss improved from 1.77186 to 1.75044, saving model to /content/drive/My Drive/Audio Data/audio/weights.best.basic_mlp.hdf5\n",
            "Epoch 51/100\n",
            "1435/1435 [==============================] - 0s 128us/step - loss: 2.1513 - accuracy: 0.3603 - val_loss: 1.5978 - val_accuracy: 0.6458\n",
            "\n",
            "Epoch 00051: val_loss improved from 1.75044 to 1.59783, saving model to /content/drive/My Drive/Audio Data/audio/weights.best.basic_mlp.hdf5\n",
            "Epoch 52/100\n",
            "1435/1435 [==============================] - 0s 134us/step - loss: 2.0323 - accuracy: 0.3861 - val_loss: 1.4199 - val_accuracy: 0.6614\n",
            "\n",
            "Epoch 00052: val_loss improved from 1.59783 to 1.41986, saving model to /content/drive/My Drive/Audio Data/audio/weights.best.basic_mlp.hdf5\n",
            "Epoch 53/100\n",
            "1435/1435 [==============================] - 0s 128us/step - loss: 1.9765 - accuracy: 0.4063 - val_loss: 1.2613 - val_accuracy: 0.7241\n",
            "\n",
            "Epoch 00053: val_loss improved from 1.41986 to 1.26132, saving model to /content/drive/My Drive/Audio Data/audio/weights.best.basic_mlp.hdf5\n",
            "Epoch 54/100\n",
            "1435/1435 [==============================] - 0s 126us/step - loss: 1.8796 - accuracy: 0.4125 - val_loss: 1.1553 - val_accuracy: 0.7806\n",
            "\n",
            "Epoch 00054: val_loss improved from 1.26132 to 1.15531, saving model to /content/drive/My Drive/Audio Data/audio/weights.best.basic_mlp.hdf5\n",
            "Epoch 55/100\n",
            "1435/1435 [==============================] - 0s 133us/step - loss: 1.6861 - accuracy: 0.4732 - val_loss: 1.0862 - val_accuracy: 0.7753\n",
            "\n",
            "Epoch 00055: val_loss improved from 1.15531 to 1.08622, saving model to /content/drive/My Drive/Audio Data/audio/weights.best.basic_mlp.hdf5\n",
            "Epoch 56/100\n",
            "1435/1435 [==============================] - 0s 125us/step - loss: 1.6085 - accuracy: 0.4969 - val_loss: 0.9396 - val_accuracy: 0.8036\n",
            "\n",
            "Epoch 00056: val_loss improved from 1.08622 to 0.93959, saving model to /content/drive/My Drive/Audio Data/audio/weights.best.basic_mlp.hdf5\n",
            "Epoch 57/100\n",
            "1435/1435 [==============================] - 0s 133us/step - loss: 1.5629 - accuracy: 0.5122 - val_loss: 0.8702 - val_accuracy: 0.8171\n",
            "\n",
            "Epoch 00057: val_loss improved from 0.93959 to 0.87020, saving model to /content/drive/My Drive/Audio Data/audio/weights.best.basic_mlp.hdf5\n",
            "Epoch 58/100\n",
            "1435/1435 [==============================] - 0s 136us/step - loss: 1.4136 - accuracy: 0.5512 - val_loss: 0.7504 - val_accuracy: 0.8380\n",
            "\n",
            "Epoch 00058: val_loss improved from 0.87020 to 0.75044, saving model to /content/drive/My Drive/Audio Data/audio/weights.best.basic_mlp.hdf5\n",
            "Epoch 59/100\n",
            "1435/1435 [==============================] - 0s 133us/step - loss: 1.3638 - accuracy: 0.5840 - val_loss: 0.6911 - val_accuracy: 0.8725\n",
            "\n",
            "Epoch 00059: val_loss improved from 0.75044 to 0.69109, saving model to /content/drive/My Drive/Audio Data/audio/weights.best.basic_mlp.hdf5\n",
            "Epoch 60/100\n",
            "1435/1435 [==============================] - 0s 122us/step - loss: 1.3269 - accuracy: 0.5763 - val_loss: 0.6252 - val_accuracy: 0.9101\n",
            "\n",
            "Epoch 00060: val_loss improved from 0.69109 to 0.62517, saving model to /content/drive/My Drive/Audio Data/audio/weights.best.basic_mlp.hdf5\n",
            "Epoch 61/100\n",
            "1435/1435 [==============================] - 0s 127us/step - loss: 1.2573 - accuracy: 0.5972 - val_loss: 0.5819 - val_accuracy: 0.8882\n",
            "\n",
            "Epoch 00061: val_loss improved from 0.62517 to 0.58187, saving model to /content/drive/My Drive/Audio Data/audio/weights.best.basic_mlp.hdf5\n",
            "Epoch 62/100\n",
            "1435/1435 [==============================] - 0s 130us/step - loss: 1.1598 - accuracy: 0.6251 - val_loss: 0.5170 - val_accuracy: 0.9101\n",
            "\n",
            "Epoch 00062: val_loss improved from 0.58187 to 0.51698, saving model to /content/drive/My Drive/Audio Data/audio/weights.best.basic_mlp.hdf5\n",
            "Epoch 63/100\n",
            "1435/1435 [==============================] - 0s 126us/step - loss: 1.1117 - accuracy: 0.6369 - val_loss: 0.4782 - val_accuracy: 0.8976\n",
            "\n",
            "Epoch 00063: val_loss improved from 0.51698 to 0.47818, saving model to /content/drive/My Drive/Audio Data/audio/weights.best.basic_mlp.hdf5\n",
            "Epoch 64/100\n",
            "1435/1435 [==============================] - 0s 127us/step - loss: 1.0900 - accuracy: 0.6495 - val_loss: 0.4443 - val_accuracy: 0.8955\n",
            "\n",
            "Epoch 00064: val_loss improved from 0.47818 to 0.44428, saving model to /content/drive/My Drive/Audio Data/audio/weights.best.basic_mlp.hdf5\n",
            "Epoch 65/100\n",
            "1435/1435 [==============================] - 0s 124us/step - loss: 1.0525 - accuracy: 0.6683 - val_loss: 0.4336 - val_accuracy: 0.8966\n",
            "\n",
            "Epoch 00065: val_loss improved from 0.44428 to 0.43356, saving model to /content/drive/My Drive/Audio Data/audio/weights.best.basic_mlp.hdf5\n",
            "Epoch 66/100\n",
            "1435/1435 [==============================] - 0s 134us/step - loss: 0.9489 - accuracy: 0.6892 - val_loss: 0.3711 - val_accuracy: 0.9185\n",
            "\n",
            "Epoch 00066: val_loss improved from 0.43356 to 0.37114, saving model to /content/drive/My Drive/Audio Data/audio/weights.best.basic_mlp.hdf5\n",
            "Epoch 67/100\n",
            "1435/1435 [==============================] - 0s 124us/step - loss: 0.9271 - accuracy: 0.7024 - val_loss: 0.3468 - val_accuracy: 0.9154\n",
            "\n",
            "Epoch 00067: val_loss improved from 0.37114 to 0.34677, saving model to /content/drive/My Drive/Audio Data/audio/weights.best.basic_mlp.hdf5\n",
            "Epoch 68/100\n",
            "1435/1435 [==============================] - 0s 132us/step - loss: 0.8982 - accuracy: 0.7038 - val_loss: 0.3295 - val_accuracy: 0.9101\n",
            "\n",
            "Epoch 00068: val_loss improved from 0.34677 to 0.32950, saving model to /content/drive/My Drive/Audio Data/audio/weights.best.basic_mlp.hdf5\n",
            "Epoch 69/100\n",
            "1435/1435 [==============================] - 0s 126us/step - loss: 0.8628 - accuracy: 0.7010 - val_loss: 0.2913 - val_accuracy: 0.9310\n",
            "\n",
            "Epoch 00069: val_loss improved from 0.32950 to 0.29127, saving model to /content/drive/My Drive/Audio Data/audio/weights.best.basic_mlp.hdf5\n",
            "Epoch 70/100\n",
            "1435/1435 [==============================] - 0s 131us/step - loss: 0.7914 - accuracy: 0.7519 - val_loss: 0.2972 - val_accuracy: 0.9342\n",
            "\n",
            "Epoch 00070: val_loss did not improve from 0.29127\n",
            "Epoch 71/100\n",
            "1435/1435 [==============================] - 0s 129us/step - loss: 0.7760 - accuracy: 0.7484 - val_loss: 0.2425 - val_accuracy: 0.9373\n",
            "\n",
            "Epoch 00071: val_loss improved from 0.29127 to 0.24247, saving model to /content/drive/My Drive/Audio Data/audio/weights.best.basic_mlp.hdf5\n",
            "Epoch 72/100\n",
            "1435/1435 [==============================] - 0s 131us/step - loss: 0.7266 - accuracy: 0.7770 - val_loss: 0.2416 - val_accuracy: 0.9425\n",
            "\n",
            "Epoch 00072: val_loss improved from 0.24247 to 0.24158, saving model to /content/drive/My Drive/Audio Data/audio/weights.best.basic_mlp.hdf5\n",
            "Epoch 73/100\n",
            "1435/1435 [==============================] - 0s 128us/step - loss: 0.7571 - accuracy: 0.7498 - val_loss: 0.2395 - val_accuracy: 0.9415\n",
            "\n",
            "Epoch 00073: val_loss improved from 0.24158 to 0.23952, saving model to /content/drive/My Drive/Audio Data/audio/weights.best.basic_mlp.hdf5\n",
            "Epoch 74/100\n",
            "1435/1435 [==============================] - 0s 125us/step - loss: 0.6723 - accuracy: 0.7735 - val_loss: 0.2460 - val_accuracy: 0.9415\n",
            "\n",
            "Epoch 00074: val_loss did not improve from 0.23952\n",
            "Epoch 75/100\n",
            "1435/1435 [==============================] - 0s 131us/step - loss: 0.6808 - accuracy: 0.7819 - val_loss: 0.2122 - val_accuracy: 0.9289\n",
            "\n",
            "Epoch 00075: val_loss improved from 0.23952 to 0.21222, saving model to /content/drive/My Drive/Audio Data/audio/weights.best.basic_mlp.hdf5\n",
            "Epoch 76/100\n",
            "1435/1435 [==============================] - 0s 121us/step - loss: 0.6431 - accuracy: 0.7826 - val_loss: 0.2113 - val_accuracy: 0.9446\n",
            "\n",
            "Epoch 00076: val_loss improved from 0.21222 to 0.21132, saving model to /content/drive/My Drive/Audio Data/audio/weights.best.basic_mlp.hdf5\n",
            "Epoch 77/100\n",
            "1435/1435 [==============================] - 0s 134us/step - loss: 0.6913 - accuracy: 0.7693 - val_loss: 0.2124 - val_accuracy: 0.9467\n",
            "\n",
            "Epoch 00077: val_loss did not improve from 0.21132\n",
            "Epoch 78/100\n",
            "1435/1435 [==============================] - 0s 124us/step - loss: 0.6106 - accuracy: 0.7909 - val_loss: 0.1844 - val_accuracy: 0.9415\n",
            "\n",
            "Epoch 00078: val_loss improved from 0.21132 to 0.18437, saving model to /content/drive/My Drive/Audio Data/audio/weights.best.basic_mlp.hdf5\n",
            "Epoch 79/100\n",
            "1435/1435 [==============================] - 0s 127us/step - loss: 0.6276 - accuracy: 0.7791 - val_loss: 0.1789 - val_accuracy: 0.9509\n",
            "\n",
            "Epoch 00079: val_loss improved from 0.18437 to 0.17887, saving model to /content/drive/My Drive/Audio Data/audio/weights.best.basic_mlp.hdf5\n",
            "Epoch 80/100\n",
            "1435/1435 [==============================] - 0s 121us/step - loss: 0.5521 - accuracy: 0.8174 - val_loss: 0.1746 - val_accuracy: 0.9498\n",
            "\n",
            "Epoch 00080: val_loss improved from 0.17887 to 0.17465, saving model to /content/drive/My Drive/Audio Data/audio/weights.best.basic_mlp.hdf5\n",
            "Epoch 81/100\n",
            "1435/1435 [==============================] - 0s 128us/step - loss: 0.5448 - accuracy: 0.8021 - val_loss: 0.1680 - val_accuracy: 0.9540\n",
            "\n",
            "Epoch 00081: val_loss improved from 0.17465 to 0.16804, saving model to /content/drive/My Drive/Audio Data/audio/weights.best.basic_mlp.hdf5\n",
            "Epoch 82/100\n",
            "1435/1435 [==============================] - 0s 122us/step - loss: 0.5444 - accuracy: 0.8209 - val_loss: 0.1618 - val_accuracy: 0.9478\n",
            "\n",
            "Epoch 00082: val_loss improved from 0.16804 to 0.16176, saving model to /content/drive/My Drive/Audio Data/audio/weights.best.basic_mlp.hdf5\n",
            "Epoch 83/100\n",
            "1435/1435 [==============================] - 0s 132us/step - loss: 0.6082 - accuracy: 0.7986 - val_loss: 0.1700 - val_accuracy: 0.9467\n",
            "\n",
            "Epoch 00083: val_loss did not improve from 0.16176\n",
            "Epoch 84/100\n",
            "1435/1435 [==============================] - 0s 129us/step - loss: 0.5247 - accuracy: 0.8230 - val_loss: 0.1507 - val_accuracy: 0.9603\n",
            "\n",
            "Epoch 00084: val_loss improved from 0.16176 to 0.15071, saving model to /content/drive/My Drive/Audio Data/audio/weights.best.basic_mlp.hdf5\n",
            "Epoch 85/100\n",
            "1435/1435 [==============================] - 0s 121us/step - loss: 0.5650 - accuracy: 0.8125 - val_loss: 0.1427 - val_accuracy: 0.9582\n",
            "\n",
            "Epoch 00085: val_loss improved from 0.15071 to 0.14265, saving model to /content/drive/My Drive/Audio Data/audio/weights.best.basic_mlp.hdf5\n",
            "Epoch 86/100\n",
            "1435/1435 [==============================] - 0s 128us/step - loss: 0.4803 - accuracy: 0.8355 - val_loss: 0.1416 - val_accuracy: 0.9540\n",
            "\n",
            "Epoch 00086: val_loss improved from 0.14265 to 0.14164, saving model to /content/drive/My Drive/Audio Data/audio/weights.best.basic_mlp.hdf5\n",
            "Epoch 87/100\n",
            "1435/1435 [==============================] - 0s 122us/step - loss: 0.5192 - accuracy: 0.8258 - val_loss: 0.1349 - val_accuracy: 0.9645\n",
            "\n",
            "Epoch 00087: val_loss improved from 0.14164 to 0.13493, saving model to /content/drive/My Drive/Audio Data/audio/weights.best.basic_mlp.hdf5\n",
            "Epoch 88/100\n",
            "1435/1435 [==============================] - 0s 124us/step - loss: 0.4465 - accuracy: 0.8502 - val_loss: 0.1325 - val_accuracy: 0.9561\n",
            "\n",
            "Epoch 00088: val_loss improved from 0.13493 to 0.13246, saving model to /content/drive/My Drive/Audio Data/audio/weights.best.basic_mlp.hdf5\n",
            "Epoch 89/100\n",
            "1435/1435 [==============================] - 0s 128us/step - loss: 0.4597 - accuracy: 0.8474 - val_loss: 0.1275 - val_accuracy: 0.9624\n",
            "\n",
            "Epoch 00089: val_loss improved from 0.13246 to 0.12745, saving model to /content/drive/My Drive/Audio Data/audio/weights.best.basic_mlp.hdf5\n",
            "Epoch 90/100\n",
            "1435/1435 [==============================] - 0s 122us/step - loss: 0.4721 - accuracy: 0.8397 - val_loss: 0.1205 - val_accuracy: 0.9530\n",
            "\n",
            "Epoch 00090: val_loss improved from 0.12745 to 0.12051, saving model to /content/drive/My Drive/Audio Data/audio/weights.best.basic_mlp.hdf5\n",
            "Epoch 91/100\n",
            "1435/1435 [==============================] - 0s 130us/step - loss: 0.4427 - accuracy: 0.8516 - val_loss: 0.1251 - val_accuracy: 0.9592\n",
            "\n",
            "Epoch 00091: val_loss did not improve from 0.12051\n",
            "Epoch 92/100\n",
            "1435/1435 [==============================] - 0s 125us/step - loss: 0.3998 - accuracy: 0.8648 - val_loss: 0.1236 - val_accuracy: 0.9561\n",
            "\n",
            "Epoch 00092: val_loss did not improve from 0.12051\n",
            "Epoch 93/100\n",
            "1435/1435 [==============================] - 0s 128us/step - loss: 0.4915 - accuracy: 0.8300 - val_loss: 0.1165 - val_accuracy: 0.9603\n",
            "\n",
            "Epoch 00093: val_loss improved from 0.12051 to 0.11654, saving model to /content/drive/My Drive/Audio Data/audio/weights.best.basic_mlp.hdf5\n",
            "Epoch 94/100\n",
            "1435/1435 [==============================] - 0s 131us/step - loss: 0.4524 - accuracy: 0.8523 - val_loss: 0.1104 - val_accuracy: 0.9613\n",
            "\n",
            "Epoch 00094: val_loss improved from 0.11654 to 0.11036, saving model to /content/drive/My Drive/Audio Data/audio/weights.best.basic_mlp.hdf5\n",
            "Epoch 95/100\n",
            "1435/1435 [==============================] - 0s 134us/step - loss: 0.4368 - accuracy: 0.8453 - val_loss: 0.1158 - val_accuracy: 0.9572\n",
            "\n",
            "Epoch 00095: val_loss did not improve from 0.11036\n",
            "Epoch 96/100\n",
            "1435/1435 [==============================] - 0s 126us/step - loss: 0.4228 - accuracy: 0.8648 - val_loss: 0.1181 - val_accuracy: 0.9519\n",
            "\n",
            "Epoch 00096: val_loss did not improve from 0.11036\n",
            "Epoch 97/100\n",
            "1435/1435 [==============================] - 0s 127us/step - loss: 0.4398 - accuracy: 0.8488 - val_loss: 0.1092 - val_accuracy: 0.9624\n",
            "\n",
            "Epoch 00097: val_loss improved from 0.11036 to 0.10917, saving model to /content/drive/My Drive/Audio Data/audio/weights.best.basic_mlp.hdf5\n",
            "Epoch 98/100\n",
            "1435/1435 [==============================] - 0s 127us/step - loss: 0.4211 - accuracy: 0.8613 - val_loss: 0.1117 - val_accuracy: 0.9603\n",
            "\n",
            "Epoch 00098: val_loss did not improve from 0.10917\n",
            "Epoch 99/100\n",
            "1435/1435 [==============================] - 0s 133us/step - loss: 0.3654 - accuracy: 0.8662 - val_loss: 0.0887 - val_accuracy: 0.9624\n",
            "\n",
            "Epoch 00099: val_loss improved from 0.10917 to 0.08866, saving model to /content/drive/My Drive/Audio Data/audio/weights.best.basic_mlp.hdf5\n",
            "Epoch 100/100\n",
            "1435/1435 [==============================] - 0s 126us/step - loss: 0.3797 - accuracy: 0.8801 - val_loss: 0.0981 - val_accuracy: 0.9613\n",
            "\n",
            "Epoch 00100: val_loss did not improve from 0.08866\n",
            "Training completed in time:  0:00:23.151698\n"
          ],
          "name": "stdout"
        }
      ]
    },
    {
      "cell_type": "code",
      "metadata": {
        "id": "ouo5vWbPMIGb",
        "colab_type": "code",
        "outputId": "a95f4bea-386d-4cdb-ccc1-4fe85b3675d9",
        "colab": {
          "base_uri": "https://localhost:8080/",
          "height": 50
        }
      },
      "source": [
        "score = model.evaluate(x_train, y_train, verbose=0)\n",
        "print(\"Training Accuracy: \", score[1]*100)\n",
        "\n",
        "score = model.evaluate(x_test, y_test, verbose=0)\n",
        "print(\"Testing Accuracy: \", score[1]*100)"
      ],
      "execution_count": 0,
      "outputs": [
        {
          "output_type": "stream",
          "text": [
            "Training Accuracy:  97.07317352294922\n",
            "Testing Accuracy:  96.13375067710876\n"
          ],
          "name": "stdout"
        }
      ]
    },
    {
      "cell_type": "code",
      "metadata": {
        "id": "uCgn_iM6i0sJ",
        "colab_type": "code",
        "outputId": "571016e1-2028-4682-c507-6df30f044883",
        "colab": {
          "base_uri": "https://localhost:8080/",
          "height": 67
        }
      },
      "source": [
        "loss, acc = model.evaluate(x_test, y_test)\n",
        "print(\"Test loss: \", loss)\n",
        "print(\"Test accuracy: \", acc)"
      ],
      "execution_count": 0,
      "outputs": [
        {
          "output_type": "stream",
          "text": [
            "957/957 [==============================] - 0s 65us/step\n",
            "Test loss:  0.09806895452622585\n",
            "Test accuracy:  0.9613375067710876\n"
          ],
          "name": "stdout"
        }
      ]
    },
    {
      "cell_type": "code",
      "metadata": {
        "id": "QhLLl2kgw0FC",
        "colab_type": "code",
        "outputId": "fb72b112-49be-48e3-f8e1-483234ebfb27",
        "colab": {
          "base_uri": "https://localhost:8080/",
          "height": 312
        }
      },
      "source": [
        "# Plot training loss and validation split loss over the epochs\n",
        "\n",
        "loss_values = history_dict['loss']\n",
        "val_loss_values=history_dict['val_loss']\n",
        "plt.figure()\n",
        "plt.figure()\n",
        "plt.plot(loss_values,'b',label='training loss')\n",
        "plt.plot(val_loss_values,'r',label='val loss')\n",
        "plt.legend()\n",
        "plt.xlabel(\"No. of Epochs\")\n",
        "plt.ylabel(\"Loss\")"
      ],
      "execution_count": 0,
      "outputs": [
        {
          "output_type": "execute_result",
          "data": {
            "text/plain": [
              "Text(0, 0.5, 'Loss')"
            ]
          },
          "metadata": {
            "tags": []
          },
          "execution_count": 17
        },
        {
          "output_type": "display_data",
          "data": {
            "text/plain": [
              "<Figure size 432x288 with 0 Axes>"
            ]
          },
          "metadata": {
            "tags": []
          }
        },
        {
          "output_type": "display_data",
          "data": {
            "image/png": "[encoded data removed]",
            "text/plain": [
              "<Figure size 432x288 with 1 Axes>"
            ]
          },
          "metadata": {
            "tags": [],
            "image/png": {
              "width": 382,
              "height": 261
            },
            "needs_background": "light"
          }
        }
      ]
    },
    {
      "cell_type": "code",
      "metadata": {
        "id": "-70QgQtTGXqE",
        "colab_type": "code",
        "outputId": "43fbf08a-34a9-424b-9939-c3087e342515",
        "colab": {
          "base_uri": "https://localhost:8080/",
          "height": 314
        }
      },
      "source": [
        "# Plot training loss and validation split loss over the epochs\n",
        "accuracy_values = history_dict['accuracy']\n",
        "val_accuracy_values=history_dict['val_accuracy']\n",
        "plt.figure()\n",
        "plt.figure()\n",
        "plt.plot(accuracy_values,'b',label='training accuracy')\n",
        "plt.plot(val_accuracy_values,'r',label='val accuracy')\n",
        "plt.legend()\n",
        "plt.xlabel(\"No. of Epochs\")\n",
        "plt.ylabel(\"Accuracy\")\n"
      ],
      "execution_count": 0,
      "outputs": [
        {
          "output_type": "execute_result",
          "data": {
            "text/plain": [
              "Text(0, 0.5, 'Accuracy')"
            ]
          },
          "metadata": {
            "tags": []
          },
          "execution_count": 18
        },
        {
          "output_type": "display_data",
          "data": {
            "text/plain": [
              "<Figure size 432x288 with 0 Axes>"
            ]
          },
          "metadata": {
            "tags": []
          }
        },
        {
          "output_type": "display_data",
          "data": {
            "image/png": "[encoded data removed]",
            "text/plain": [
              "<Figure size 432x288 with 1 Axes>"
            ]
          },
          "metadata": {
            "tags": [],
            "image/png": {
              "width": 385,
              "height": 263
            },
            "needs_background": "light"
          }
        }
      ]
    },
    {
      "cell_type": "code",
      "metadata": {
        "id": "sA54isLEBa-U",
        "colab_type": "code",
        "outputId": "e002914e-4a0a-487e-8e0f-845a37beead3",
        "colab": {
          "base_uri": "https://localhost:8080/",
          "height": 269
        }
      },
      "source": [
        "y_p = model.predict(x_test)\n",
        "\n",
        "y_pred=[]\n",
        "for i in range(len(y_p)):\n",
        "  t=max(y_p[i])\n",
        "  p=[]\n",
        "  for j in range(len(y_p[i])):\n",
        "    if y_p[i][j]==t:\n",
        "      p.append(1.)\n",
        "    else:\n",
        "      p.append(0.)\n",
        "  y_pred.append(p)\n",
        "y_pred = np.array(y_pred)\n",
        "print(y_test)\n",
        "print(y_pred)\n"
      ],
      "execution_count": 0,
      "outputs": [
        {
          "output_type": "stream",
          "text": [
            "[[0. 0. 0. ... 0. 0. 0.]\n",
            " [0. 0. 0. ... 0. 0. 0.]\n",
            " [0. 0. 0. ... 0. 0. 0.]\n",
            " ...\n",
            " [0. 0. 0. ... 0. 0. 0.]\n",
            " [0. 0. 0. ... 0. 0. 1.]\n",
            " [0. 0. 0. ... 0. 0. 0.]]\n",
            "[[0. 0. 0. ... 0. 0. 0.]\n",
            " [0. 0. 0. ... 0. 0. 0.]\n",
            " [0. 0. 0. ... 0. 0. 0.]\n",
            " ...\n",
            " [0. 0. 0. ... 0. 0. 0.]\n",
            " [0. 0. 0. ... 0. 0. 1.]\n",
            " [0. 0. 0. ... 0. 0. 0.]]\n"
          ],
          "name": "stdout"
        }
      ]
    },
    {
      "cell_type": "code",
      "metadata": {
        "id": "Vt39urvSbxkP",
        "colab_type": "code",
        "outputId": "9e020590-e13c-42b4-9506-bd233af53f61",
        "colab": {
          "base_uri": "https://localhost:8080/",
          "height": 143
        }
      },
      "source": [
        "from sklearn.metrics import confusion_matrix\n",
        "cm=confusion_matrix(\n",
        "    y_test.argmax(axis=1),y_pred.argmax(axis=1))\n",
        "print(cm)"
      ],
      "execution_count": 0,
      "outputs": [
        {
          "output_type": "stream",
          "text": [
            "[[ 7  0  0 ...  0  0  0]\n",
            " [ 0 13  0 ...  0  0  0]\n",
            " [ 0  0 16 ...  0  0  0]\n",
            " ...\n",
            " [ 0  0  0 ... 13  0  0]\n",
            " [ 0  0  0 ...  0 12  0]\n",
            " [ 0  0  0 ...  0  0 11]]\n"
          ],
          "name": "stdout"
        }
      ]
    },
    {
      "cell_type": "code",
      "metadata": {
        "id": "MUhMUKiHAE3f",
        "colab_type": "code",
        "outputId": "8508261d-1efe-44f8-8279-b0b520375af1",
        "colab": {
          "base_uri": "https://localhost:8080/",
          "height": 71
        }
      },
      "source": [
        "loss, acc = model.evaluate(x_train, y_train)\n",
        "print(\"Test loss: \", loss)\n",
        "print(\"Test accuracy: \", acc)"
      ],
      "execution_count": 0,
      "outputs": [
        {
          "output_type": "stream",
          "text": [
            "1872/1872 [==============================] - 0s 107us/step\n",
            "Test loss:  0.015204657239314074\n",
            "Test accuracy:  0.99732905626297\n"
          ],
          "name": "stdout"
        }
      ]
    }
  ]
}